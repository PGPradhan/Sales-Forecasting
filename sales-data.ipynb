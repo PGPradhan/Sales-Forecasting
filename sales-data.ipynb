{
  "nbformat": 4,
  "nbformat_minor": 0,
  "metadata": {
    "colab": {
      "provenance": [],
      "authorship_tag": "ABX9TyPF6vctM/bSH5AyqPYKGZna",
      "include_colab_link": true
    },
    "kernelspec": {
      "name": "python3",
      "display_name": "Python 3"
    },
    "language_info": {
      "name": "python"
    }
  },
  "cells": [
    {
      "cell_type": "markdown",
      "metadata": {
        "id": "view-in-github",
        "colab_type": "text"
      },
      "source": [
        "<a href=\"https://colab.research.google.com/github/PGPradhan/Sales-Forecasting/blob/sales-data-extraction/sales-data.ipynb\" target=\"_parent\"><img src=\"https://colab.research.google.com/assets/colab-badge.svg\" alt=\"Open In Colab\"/></a>"
      ]
    },
    {
      "cell_type": "code",
      "source": [
        "import pandas as pd\n",
        "\n",
        "# Read the CSV file into a DataFrame\n",
        "df = pd.read_csv('/content/sales-linear-pq.csv')\n",
        "\n",
        "# Extract product quantities from the column\n",
        "product_quantities = df['product_quantity']\n",
        "\n",
        "# Clean the extracted quantities\n",
        "def clean_quantities(x):\n",
        "    try:\n",
        "        return [int(q) for q in x.strip('[]~ ').split('~') if q]\n",
        "    except ValueError:\n",
        "        return None\n",
        "\n",
        "cleaned_quantities = product_quantities.apply(clean_quantities)\n",
        "\n",
        "# Replace the original column with the cleaned quantities\n",
        "df['product_quantity'] = cleaned_quantities\n",
        "\n",
        "# Print the cleaned DataFrame\n",
        "print(df)\n"
      ],
      "metadata": {
        "id": "5QV19j4m8WDJ",
        "colab": {
          "base_uri": "https://localhost:8080/"
        },
        "outputId": "c1b2cf01-7847-4070-bbfa-2a9b06f6ed7c"
      },
      "execution_count": 3,
      "outputs": [
        {
          "output_type": "stream",
          "name": "stdout",
          "text": [
            "    product_quantity\n",
            "0                [1]\n",
            "1                [1]\n",
            "2                [1]\n",
            "3                [4]\n",
            "4          [3, 1, 1]\n",
            "..               ...\n",
            "988           [3, 1]\n",
            "989           [6, 1]\n",
            "990          [1, 12]\n",
            "991           [8, 1]\n",
            "992           [5, 1]\n",
            "\n",
            "[993 rows x 1 columns]\n"
          ]
        }
      ]
    },
    {
      "cell_type": "code",
      "source": [
        "print(df.head)"
      ],
      "metadata": {
        "colab": {
          "base_uri": "https://localhost:8080/"
        },
        "id": "Xkowy9wlq-r-",
        "outputId": "e5dd1fdd-504a-42e7-c2f6-d0a5dae39056"
      },
      "execution_count": 5,
      "outputs": [
        {
          "output_type": "stream",
          "name": "stdout",
          "text": [
            "<bound method NDFrame.head of     product_quantity\n",
            "0                [1]\n",
            "1                [1]\n",
            "2                [1]\n",
            "3                [4]\n",
            "4          [3, 1, 1]\n",
            "..               ...\n",
            "988           [3, 1]\n",
            "989           [6, 1]\n",
            "990          [1, 12]\n",
            "991           [8, 1]\n",
            "992           [5, 1]\n",
            "\n",
            "[993 rows x 1 columns]>\n"
          ]
        }
      ]
    },
    {
      "cell_type": "code",
      "source": [
        "# Convert the arrays of product quantities into totals\n",
        "df['total_quantity'] = df['product_quantity'].apply(lambda x: sum(x) if x is not None else 0)\n",
        "\n",
        "\n",
        "# Print the updated DataFrame\n",
        "print(df)"
      ],
      "metadata": {
        "colab": {
          "base_uri": "https://localhost:8080/"
        },
        "id": "AQozZNiwrR3r",
        "outputId": "970e01e7-e33e-4c53-a0de-d7e91014d4e3"
      },
      "execution_count": 9,
      "outputs": [
        {
          "output_type": "stream",
          "name": "stdout",
          "text": [
            "    product_quantity  total_quantity\n",
            "0                [1]               1\n",
            "1                [1]               1\n",
            "2                [1]               1\n",
            "3                [4]               4\n",
            "4          [3, 1, 1]               5\n",
            "..               ...             ...\n",
            "988           [3, 1]               4\n",
            "989           [6, 1]               7\n",
            "990          [1, 12]              13\n",
            "991           [8, 1]               9\n",
            "992           [5, 1]               6\n",
            "\n",
            "[993 rows x 2 columns]\n"
          ]
        }
      ]
    },
    {
      "cell_type": "code",
      "source": [
        "df.to_csv('sales.csv', index=False)"
      ],
      "metadata": {
        "id": "PuT3BVzKrzSj"
      },
      "execution_count": 11,
      "outputs": []
    },
    {
      "cell_type": "code",
      "source": [
        "df1 = pd.read_csv('/content/Date.csv')"
      ],
      "metadata": {
        "id": "fG-Qs6EutMO9"
      },
      "execution_count": 12,
      "outputs": []
    },
    {
      "cell_type": "code",
      "source": [
        "# Check if the value is a valid string before splitting\n",
        "df1['date'] = df1['date'].apply(lambda x: x.split()[0] if isinstance(x, str) else x)\n",
        "\n",
        "# Print the updated DataFrame\n",
        "print(df1)\n"
      ],
      "metadata": {
        "colab": {
          "base_uri": "https://localhost:8080/"
        },
        "id": "sAfNzrBOupGR",
        "outputId": "f9d8113c-c408-439c-a754-fb7cb163cb3e"
      },
      "execution_count": 18,
      "outputs": [
        {
          "output_type": "stream",
          "name": "stdout",
          "text": [
            "            date\n",
            "0     12-10-2016\n",
            "1     12-09-2016\n",
            "2     13-09-2016\n",
            "3     23-09-2016\n",
            "4     23-09-2016\n",
            "...          ...\n",
            "999   29-02-2024\n",
            "1000  29-02-2024\n",
            "1001  29-02-2024\n",
            "1002  29-02-2024\n",
            "1003  29-02-2024\n",
            "\n",
            "[1004 rows x 1 columns]\n"
          ]
        }
      ]
    },
    {
      "cell_type": "code",
      "source": [
        "df1.to_csv('datess.csv', index=False)"
      ],
      "metadata": {
        "id": "XwOzWgskurPL"
      },
      "execution_count": 19,
      "outputs": []
    },
    {
      "cell_type": "code",
      "source": [],
      "metadata": {
        "id": "jMX1g0Y4vdnF"
      },
      "execution_count": null,
      "outputs": []
    }
  ]
}